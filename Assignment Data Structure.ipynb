{
 "cells": [
  {
   "cell_type": "code",
   "execution_count": 3,
   "id": "cc1f0ffa-1721-48e5-8b05-ccae0dd7da0f",
   "metadata": {},
   "outputs": [
    {
     "name": "stdout",
     "output_type": "stream",
     "text": [
      "ira\n"
     ]
    }
   ],
   "source": [
    "#Question 1. Discuss string slicing and provide examples.\t\n",
    "\n",
    "\n",
    "string = \"Virat, Kohli\"\n",
    "slicing = string[1:4]\n",
    "print(slicing)  # Output: \"ello\""
   ]
  },
  {
   "cell_type": "code",
   "execution_count": 4,
   "id": "a9cc5fa6-b278-43a1-accc-80b0af9a442d",
   "metadata": {},
   "outputs": [
    {
     "name": "stdout",
     "output_type": "stream",
     "text": [
      "ilhoK ,tariV\n"
     ]
    }
   ],
   "source": [
    "string = \"Virat, Kohli\"\n",
    "reversed_string = string[::-1]\n",
    "print(reversed_string)  # Output: \"!dlroW ,olleH\""
   ]
  },
  {
   "cell_type": "code",
   "execution_count": 9,
   "id": "81695599-7f7f-4c76-8db8-3155ea867a5f",
   "metadata": {},
   "outputs": [
    {
     "name": "stdout",
     "output_type": "stream",
     "text": [
      "oK ,ta\n"
     ]
    }
   ],
   "source": [
    "string = \"Virat, Kohli\"\n",
    "sliced = string[8:2:-1]  # Reverse slice from index 7 to 2\n",
    "print(sliced)  # Output: \"oW ,"
   ]
  },
  {
   "cell_type": "code",
   "execution_count": 14,
   "id": "e0349b4e-f82c-486e-b110-d5d242621a50",
   "metadata": {},
   "outputs": [
    {
     "name": "stdout",
     "output_type": "stream",
     "text": [
      "[0, 2, 3, 4, 5]\n"
     ]
    }
   ],
   "source": [
    "#Question 2. Explain the key features of lists in Python.\n",
    "\n",
    "#Example: Mutable\n",
    "my_list = [1, 2, 3,4,5]\n",
    "my_list[0] = 0 \n",
    "print(my_list)\n",
    "\n"
   ]
  },
  {
   "cell_type": "code",
   "execution_count": 15,
   "id": "8b2c481e-1b75-49a4-a707-dd72e7a9dde6",
   "metadata": {},
   "outputs": [
    {
     "name": "stdout",
     "output_type": "stream",
     "text": [
      "a\n"
     ]
    }
   ],
   "source": [
    "#Example: Ordered\n",
    "\n",
    "my_list = ['aa', 'bb', 'cc']\n",
    "print(my_list[0])"
   ]
  },
  {
   "cell_type": "code",
   "execution_count": 16,
   "id": "ba182d09-9915-48bb-ad3e-296119eb2eff",
   "metadata": {},
   "outputs": [
    {
     "name": "stdout",
     "output_type": "stream",
     "text": [
      "[11, 22, 'Hello', 3.5, [2, 4]]\n"
     ]
    }
   ],
   "source": [
    "#Example: Heterogeneous\n",
    "my_list = [11,22, \"Hello\", 3.5, [2, 4]]\n",
    "print(my_list)"
   ]
  },
  {
   "cell_type": "code",
   "execution_count": 24,
   "id": "8d8b5b8a-40e5-498b-af3d-a4bcb89ffa95",
   "metadata": {},
   "outputs": [
    {
     "data": {
      "text/plain": [
       "44"
      ]
     },
     "execution_count": 24,
     "metadata": {},
     "output_type": "execute_result"
    }
   ],
   "source": [
    "#Example: Dynamic Size\n",
    "my_list = [21, 22, 33]\n",
    "my_list.append(44)  # List is now [21, 22, 33, 44]\n",
    "my_list.pop()      # List is now [1, 2, 3]\n"
   ]
  },
  {
   "cell_type": "code",
   "execution_count": 28,
   "id": "569392da-9f17-4823-9774-50d630484dc2",
   "metadata": {},
   "outputs": [
    {
     "name": "stdout",
     "output_type": "stream",
     "text": [
      "[22, 33, 44, 55, 66]\n",
      "[33]\n"
     ]
    }
   ],
   "source": [
    "#Example: Slicing\n",
    "my_list = [22, 33, 44, 55, 66]\n",
    "sub_list = my_list[1:2] \n",
    "\n",
    "print(my_list )\n",
    "print(sub_list)"
   ]
  },
  {
   "cell_type": "code",
   "execution_count": 31,
   "id": "42180f39-6061-45af-941d-cb65e7ae8afb",
   "metadata": {},
   "outputs": [
    {
     "name": "stdout",
     "output_type": "stream",
     "text": [
      "23\n",
      "46\n",
      "52\n"
     ]
    }
   ],
   "source": [
    "#Example: Iterable\n",
    "my_list = [23, 46, 52]\n",
    "for item in my_list:\n",
    "    print(item)"
   ]
  },
  {
   "cell_type": "code",
   "execution_count": 33,
   "id": "79351d05-788b-4b75-bcdd-7e28de186641",
   "metadata": {},
   "outputs": [
    {
     "name": "stdout",
     "output_type": "stream",
     "text": [
      "A\n",
      "C\n",
      "D\n",
      "B\n"
     ]
    }
   ],
   "source": [
    "#Question 3. Describe how to access, modify, and delete elements in a list with examples.\t\n",
    "\n",
    "#Examples: access\n",
    "\n",
    "# List of letter\n",
    "letter = [\"A\", \"B\", \"C\", \"D\"]\n",
    "\n",
    "# Accessing elements\n",
    "print(letter[0])   # Output: A\n",
    "print(letter[2])   # Output: C\n",
    "\n",
    "# Accessing elements with negative indexing\n",
    "print(letter[-1])  # Output: D (last element)\n",
    "print(letter[-3])  # Output: B(third element from the end)"
   ]
  },
  {
   "cell_type": "code",
   "execution_count": 34,
   "id": "02b0c984-0deb-477a-8af4-870317d3d934",
   "metadata": {},
   "outputs": [
    {
     "name": "stdout",
     "output_type": "stream",
     "text": [
      "['A', 'D', 'C']\n"
     ]
    }
   ],
   "source": [
    "#Example: Modify\n",
    "\n",
    "# List of letter\n",
    "letter = [\"A\", \"B\", \"C\"]\n",
    "\n",
    "# Modifying an element\n",
    "letter[1] = \"D\"\n",
    "print(letter)  # Output: ['A', 'D', 'C']"
   ]
  },
  {
   "cell_type": "code",
   "execution_count": 35,
   "id": "470ed29e-9ae3-42bd-baf0-89af5fd6a40d",
   "metadata": {},
   "outputs": [
    {
     "name": "stdout",
     "output_type": "stream",
     "text": [
      "['A', 'C']\n",
      "['A', 'D']\n"
     ]
    }
   ],
   "source": [
    "#a. Using del:\n",
    "#You can use del to delete elements at a specific index or to delete the entire list.\n",
    "\n",
    "# List of letter\n",
    "letter = [\"A\", \"B\", \"C\"]\n",
    "\n",
    "# Deleting an element by index\n",
    "del letter[1]\n",
    "print(letter)  # Output: ['A', 'C']\n",
    "\n",
    "# Deleting a slice of elements\n",
    "letter = [\"A\", \"B\", \"C\", \"D\"]\n",
    "del letter[1:3]\n",
    "print(letter)  # Output: ['A', 'D']"
   ]
  },
  {
   "cell_type": "code",
   "execution_count": 36,
   "id": "eade789f-d94d-408b-a081-7174bbce6709",
   "metadata": {},
   "outputs": [
    {
     "name": "stdout",
     "output_type": "stream",
     "text": [
      "['A', 'C', 'B']\n"
     ]
    }
   ],
   "source": [
    "#b. Using remove():\n",
    "#The remove() method removes the first occurrence of a specified value.\n",
    "\n",
    "# List of letter\n",
    "letter = [\"A\", \"B\", \"C\", \"B\"]\n",
    "\n",
    "# Removing the first occurrence of \"B\"\n",
    "letter.remove(\"B\")\n",
    "print(letter)  # Output: ['A', 'C', 'B']"
   ]
  },
  {
   "cell_type": "code",
   "execution_count": 37,
   "id": "3f4655ba-8038-4c7f-a0bf-5e15d5ba4f00",
   "metadata": {},
   "outputs": [
    {
     "name": "stdout",
     "output_type": "stream",
     "text": [
      "['A', 'B']\n",
      "B\n",
      "['B']\n",
      "A\n"
     ]
    }
   ],
   "source": [
    "#c. Using pop():\n",
    "#The pop() method removes and returns the element at a specified index. If no index is specified, it removes the last element.\n",
    "\n",
    "# List of letter\n",
    "letter = [\"A\", \"B\", \"B\"]\n",
    "\n",
    "# Removing and returning the last element\n",
    "last_letter = letter.pop()\n",
    "print(letter)      # Output: ['A', 'B']\n",
    "print(last_letter)  # Output: B\n",
    "\n",
    "# Removing and returning an element at index 0\n",
    "first_letter = letter.pop(0)\n",
    "print(letter)      # Output: ['B']\n",
    "print(first_letter) # Output: A"
   ]
  },
  {
   "cell_type": "code",
   "execution_count": 39,
   "id": "d13825af-369c-41c2-ac5d-deea2f607e14",
   "metadata": {},
   "outputs": [
    {
     "name": "stdout",
     "output_type": "stream",
     "text": [
      "[11, 3, 33]\n"
     ]
    }
   ],
   "source": [
    "#Question 4. Compare and contrast tuples and lists with examples.\n",
    "\n",
    "#Example: Mutability\n",
    "\n",
    "# List (Mutable)\n",
    "my_list = [11, 22, 33]\n",
    "my_list[1] = 3  # Modifying an element\n",
    "print(my_list)   # Output: [1, 20, 3]\n",
    "\n",
    "# Tuple (Immutable)\n",
    "my_tuple = (11, 22, 33)\n",
    "# my_tuple[1] = 20  # TypeError"
   ]
  },
  {
   "cell_type": "code",
   "execution_count": 54,
   "id": "bdfc2d1b-7330-466b-b988-d3dd8ed1c480",
   "metadata": {},
   "outputs": [
    {
     "name": "stdout",
     "output_type": "stream",
     "text": [
      "[1, 2, 3, 4]\n",
      "2\n",
      "2\n"
     ]
    }
   ],
   "source": [
    "#Example: Syntax\n",
    "\n",
    "# List\n",
    "my_list = [11, 22, 33]\n",
    "\n",
    "# Tuple\n",
    "my_tuple = (11, 22, 23)\n",
    "\n",
    "#Example: Methods\n",
    "\n",
    "# List methods\n",
    "my_list = [3, 1, 4]\n",
    "my_list.append(2)   # Adding an element\n",
    "my_list.sort()      # Sorting the list\n",
    "print(my_list)      # Output: [1, 2, 3, 4]\n",
    "\n",
    "# Tuple methods\n",
    "my_tuple = (1, 2, 3, 2)\n",
    "print(my_tuple.count(2))  \n",
    "# Output: 2 (counts occurrences of 2)\n",
    "print(my_tuple.index(3))  \n",
    "# Output: 2 (finds index of first occurrence of 3)\n",
    "\n",
    "\n"
   ]
  },
  {
   "cell_type": "code",
   "execution_count": 53,
   "id": "19f4ade0-a108-470e-8db0-138f8a005568",
   "metadata": {},
   "outputs": [
    {
     "name": "stdout",
     "output_type": "stream",
     "text": [
      "{1, 2, 3, 4, 5}\n",
      "{3}\n",
      "{1, 2}\n"
     ]
    }
   ],
   "source": [
    "#Question 5. Describe the key features of sets and provide examples of their use.\n",
    "\n",
    "#Example: Mathematical Operations\n",
    "set1 = {1, 2, 3}\n",
    "set2 = {3, 4, 5}\n",
    "union = set1 | set2  \n",
    "print (union) #Output: {1, 2, 3, 4, 5}\n",
    "intersection = set1 & set2  #Output: {3}\n",
    "print (intersection)\n",
    "difference = set1 - set2  # Output:{1, 2}\n",
    "print(difference)"
   ]
  },
  {
   "cell_type": "code",
   "execution_count": 56,
   "id": "b64e82f7-5ffb-463b-887e-555d8272371c",
   "metadata": {},
   "outputs": [
    {
     "name": "stdout",
     "output_type": "stream",
     "text": [
      "True\n"
     ]
    }
   ],
   "source": [
    "\n",
    "my_set = {1, 2, 3, 4}\n",
    "print(3 in my_set)  # True\n",
    "#Examples of Using Sets"
   ]
  },
  {
   "cell_type": "code",
   "execution_count": 60,
   "id": "504b7d39-8c9b-4f16-8a63-996fc80f9f08",
   "metadata": {},
   "outputs": [
    {
     "name": "stdout",
     "output_type": "stream",
     "text": [
      "{1, 2, 3, 4, 5, 6, 7, 8}\n"
     ]
    }
   ],
   "source": [
    "\n",
    "\n",
    "set_A = [1, 2, 3, 4]\n",
    "set_B = [5, 6, 7, 8]\n",
    "\n",
    "# Convert lists to sets and perform union\n",
    "union = set(set_A).union(set(set_B))\n",
    "print(union)"
   ]
  },
  {
   "cell_type": "code",
   "execution_count": 67,
   "id": "0fc32c9a-4809-4e89-8dc4-56a86e682a76",
   "metadata": {},
   "outputs": [
    {
     "name": "stdout",
     "output_type": "stream",
     "text": [
      "{4}\n"
     ]
    }
   ],
   "source": [
    "set_A = [1, 2, 3, 4]\n",
    "set_B = [4,5, 6, 7, 8]\n",
    "\n",
    "# Convert lists to sets and perform intersection\n",
    "intersection = set(set_A).intersection(set(set_B))\n",
    "\n",
    "# Print the intersection result\n",
    "print(intersection)\n"
   ]
  },
  {
   "cell_type": "code",
   "execution_count": 69,
   "id": "8cee3c08-ae29-4377-84de-fa8df7df50b9",
   "metadata": {},
   "outputs": [
    {
     "name": "stdout",
     "output_type": "stream",
     "text": [
      "{1, 2, 3}\n"
     ]
    }
   ],
   "source": [
    "#Difference\n",
    "set_A = [1, 2, 3, 4]\n",
    "set_B = [4, 5, 6, 7, 8]\n",
    "\n",
    "# Convert lists to sets and perform difference\n",
    "difference = set(set_A).difference(set(set_B))\n",
    "\n",
    "# Print the difference result\n",
    "print(difference)"
   ]
  },
  {
   "cell_type": "code",
   "execution_count": 70,
   "id": "c62ad672-c57d-4154-903b-8aa6a108b3c8",
   "metadata": {},
   "outputs": [
    {
     "name": "stdout",
     "output_type": "stream",
     "text": [
      "True\n"
     ]
    }
   ],
   "source": [
    "#Membership Testing\n",
    "\n",
    "set_A = [1, 2, 3, 4]\n",
    "set_B = [4, 5, 6, 7, 8]\n",
    "\n",
    "# Convert lists to sets\n",
    "set_A = set(set_A)\n",
    "set_B = set(set_B)\n",
    "\n",
    "# Membership testing: Check if 3 is in set_A\n",
    "is_member = 3 in set_A\n",
    "\n",
    "# Print the membership result\n",
    "print(is_member)"
   ]
  },
  {
   "cell_type": "code",
   "execution_count": 71,
   "id": "c1c0862e-c847-4984-bfad-85a9b54841a4",
   "metadata": {},
   "outputs": [
    {
     "name": "stdout",
     "output_type": "stream",
     "text": [
      "{'name': 'Swapnil', 'age': 33}\n"
     ]
    }
   ],
   "source": [
    "#Question 7. Describe how to odd, modify, and delete items in a dictionary with examples.\t\n",
    "\n",
    "#1. Adding Items to a Dictionary\n",
    "\n",
    "# Create an empty dictionary\n",
    "my_dict = {}\n",
    "\n",
    "# Add a key-value pair\n",
    "my_dict['name'] = 'Swapnil'\n",
    "my_dict['age'] = 33\n",
    "\n",
    "print(my_dict)"
   ]
  },
  {
   "cell_type": "code",
   "execution_count": 73,
   "id": "ce588c5f-0642-4cc9-b3d9-07f29f6236fd",
   "metadata": {},
   "outputs": [
    {
     "name": "stdout",
     "output_type": "stream",
     "text": [
      "{'name': 'Swapnil', 'age': 36}\n"
     ]
    }
   ],
   "source": [
    "#2. Modifying Items in a Dictionary\n",
    "\n",
    "\n",
    "# Modify the value of an existing key\n",
    "my_dict['age'] = 36\n",
    "\n",
    "print(my_dict)"
   ]
  },
  {
   "cell_type": "code",
   "execution_count": 74,
   "id": "9884293e-de50-4079-821b-b3a8171d78fb",
   "metadata": {},
   "outputs": [
    {
     "name": "stdout",
     "output_type": "stream",
     "text": [
      "{'age': 36}\n"
     ]
    }
   ],
   "source": [
    "#3. Deleting Items from a Dictionary\n",
    "\n",
    "# Delete a specific key-value pair\n",
    "del my_dict['name']\n",
    "\n",
    "print(my_dict)"
   ]
  },
  {
   "cell_type": "code",
   "execution_count": 75,
   "id": "c59b150f-b8e6-4977-9fb4-7ded432f82eb",
   "metadata": {},
   "outputs": [
    {
     "name": "stdout",
     "output_type": "stream",
     "text": [
      "36\n",
      "{}\n"
     ]
    }
   ],
   "source": [
    "#Example using pop():\n",
    "\n",
    "# Remove a key-value pair and return the value\n",
    "age = my_dict.pop('age')\n",
    "\n",
    "print(age)     # Output: 36\n",
    "print(my_dict) # Output: {}"
   ]
  },
  {
   "cell_type": "code",
   "execution_count": 76,
   "id": "264bd960-0970-4461-b6a4-eea265804320",
   "metadata": {},
   "outputs": [
    {
     "name": "stdout",
     "output_type": "stream",
     "text": [
      "('country', 'India')\n",
      "{'city': 'Mumbai'}\n"
     ]
    }
   ],
   "source": [
    "#Example using popitem():\n",
    "\n",
    "# Add new items\n",
    "my_dict['city'] = 'Mumbai'\n",
    "my_dict['country'] = 'India'\n",
    "\n",
    "# Remove the last inserted item\n",
    "last_item = my_dict.popitem()\n",
    "\n",
    "print(last_item)  # Output: ('country', 'USA')\n",
    "print(my_dict)    # Output: {'city': 'New York'}"
   ]
  },
  {
   "cell_type": "code",
   "execution_count": 78,
   "id": "2bd1efaa-0d02-4842-90fd-2bc5d8da9d75",
   "metadata": {},
   "outputs": [
    {
     "name": "stdout",
     "output_type": "stream",
     "text": [
      "{}\n"
     ]
    }
   ],
   "source": [
    "\n",
    "#Example using clear():\n",
    "# Clear all key-value pairs\n",
    "my_dict.clear()\n",
    "\n",
    "print(my_dict)  # Output: {}\n"
   ]
  },
  {
   "cell_type": "code",
   "execution_count": 81,
   "id": "c22036fc-dc45-4063-a615-1ffa817c46a0",
   "metadata": {},
   "outputs": [
    {
     "name": "stdout",
     "output_type": "stream",
     "text": [
      "1\n"
     ]
    }
   ],
   "source": [
    "#Question 8. Discuss the importance of dictionary keys being immutable and provide examples.\n",
    "\n",
    "\n",
    "#Examples\n",
    "#Using Immutable Keys (Strings and Tuples)\n",
    "\n",
    "# Example with string keys (immutable)\n",
    "my_dict = {\n",
    "    \"Rahul\": 1,\n",
    "    \"Rajeev\": 2,\n",
    "    \"Chahal\": 3\n",
    "}\n",
    "\n",
    "print(my_dict[\"Rahul\"])\n"
   ]
  },
  {
   "cell_type": "code",
   "execution_count": 84,
   "id": "bfe14666-59fb-4e78-a604-aeb03b7d8c8e",
   "metadata": {},
   "outputs": [
    {
     "name": "stdout",
     "output_type": "stream",
     "text": [
      "point A\n"
     ]
    }
   ],
   "source": [
    "# Example with tuple keys (immutable)\n",
    "my_tuple_dict = {\n",
    "    (11, 12): \"point A\",\n",
    "    (13, 14): \"point B\"\n",
    "}\n",
    "\n",
    "print(my_tuple_dict[(11, 12)]) "
   ]
  },
  {
   "cell_type": "code",
   "execution_count": 87,
   "id": "4badf603-017d-4e86-a9cd-506a59fd037f",
   "metadata": {},
   "outputs": [
    {
     "name": "stdout",
     "output_type": "stream",
     "text": [
      "unhashable type: 'list'\n"
     ]
    }
   ],
   "source": [
    "#Attempting to Use Mutable Keys (Lists)\n",
    "# This will raise an error because lists are mutable\n",
    "\n",
    "try:\n",
    "    my_dict = {\n",
    "        [1, 2]: \"value2\"  # Trying to use a list as a key\n",
    "    }\n",
    "except TypeError as e:\n",
    "    print(e) \n"
   ]
  },
  {
   "cell_type": "code",
   "execution_count": 91,
   "id": "42b13e0f-33e6-4367-9f5a-a3ada1d70794",
   "metadata": {},
   "outputs": [
    {
     "name": "stdout",
     "output_type": "stream",
     "text": [
      "set1\n"
     ]
    }
   ],
   "source": [
    "# Example with frozenset keys (immutable)\n",
    "my_frozenset_dict = {\n",
    "    frozenset([11, 12]): \"set1\",\n",
    "    frozenset([13, 14]): \"set2\"\n",
    "}\n",
    "\n",
    "print(my_frozenset_dict[frozenset([11, 12])])"
   ]
  },
  {
   "cell_type": "code",
   "execution_count": null,
   "id": "bd1b23d2-d3f4-4319-9458-d95b7d4aff9b",
   "metadata": {},
   "outputs": [],
   "source": []
  }
 ],
 "metadata": {
  "kernelspec": {
   "display_name": "Python 3 (ipykernel)",
   "language": "python",
   "name": "python3"
  },
  "language_info": {
   "codemirror_mode": {
    "name": "ipython",
    "version": 3
   },
   "file_extension": ".py",
   "mimetype": "text/x-python",
   "name": "python",
   "nbconvert_exporter": "python",
   "pygments_lexer": "ipython3",
   "version": "3.10.8"
  }
 },
 "nbformat": 4,
 "nbformat_minor": 5
}
